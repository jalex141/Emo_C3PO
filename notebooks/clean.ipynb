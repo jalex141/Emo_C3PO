{
 "cells": [
  {
   "cell_type": "code",
   "execution_count": 2,
   "id": "043b24e0",
   "metadata": {},
   "outputs": [],
   "source": [
    "import pandas as pd\n",
    "import seaborn as sns\n",
    "import numpy as np\n",
    "import re\n",
    "import os\n",
    "import sys\n",
    "sys.path.append('../')"
   ]
  },
  {
   "cell_type": "code",
   "execution_count": 19,
   "id": "a5f0438c",
   "metadata": {},
   "outputs": [],
   "source": [
    "import re "
   ]
  },
  {
   "cell_type": "code",
   "execution_count": null,
   "id": "84bace82",
   "metadata": {},
   "outputs": [],
   "source": [
    "for file in ls"
   ]
  },
  {
   "cell_type": "code",
   "execution_count": 18,
   "id": "a73ed8d5",
   "metadata": {},
   "outputs": [],
   "source": [
    "read_file = pd.read_csv ('./SW_EpisodeIV.txt', sep= \" \")"
   ]
  },
  {
   "cell_type": "code",
   "execution_count": 37,
   "id": "2fdad8b5",
   "metadata": {},
   "outputs": [],
   "source": [
    "df1 = pd.read_csv('../data/SW_EpisodeV.csv')"
   ]
  },
  {
   "cell_type": "code",
   "execution_count": 20,
   "id": "67778319",
   "metadata": {},
   "outputs": [],
   "source": [
    "read_file.to_csv ('./data/SW_EpisodeVI.csv', index=None)"
   ]
  },
  {
   "cell_type": "code",
   "execution_count": 18,
   "id": "0d5e0f52",
   "metadata": {},
   "outputs": [],
   "source": [
    "dfs = [\"IV\", \"V\", \"VI\"]"
   ]
  },
  {
   "cell_type": "code",
   "execution_count": 46,
   "id": "1a8e4555",
   "metadata": {},
   "outputs": [],
   "source": [
    "def sustituye(x):\n",
    "    x = str(x).replace(\"'\", \" \")\n",
    "    x = str(x).replace(\"'\", \" \")\n",
    "\n",
    "    return x "
   ]
  },
  {
   "cell_type": "code",
   "execution_count": 47,
   "id": "13bdf448",
   "metadata": {},
   "outputs": [],
   "source": [
    "for ep in dfs:\n",
    "    df = pd.read_csv (f'../data/SW_Episode{ep}.txt', sep= \" \")\n",
    "    #df = pd.read_csv(f'../data/SW_Episode{ep}.csv')\n",
    "    df[\"episode\"]= df.character.apply(lambda x: f\"{ep}\")\n",
    "    df[\"dialogue\"] = df.dialogue.apply(sustituye)\n",
    "\n",
    "    df.to_csv (f'../data/SW_Episode{ep}.csv', index=None)"
   ]
  },
  {
   "cell_type": "code",
   "execution_count": 3,
   "id": "ebf83e77",
   "metadata": {},
   "outputs": [],
   "source": [
    "df1 = pd.read_csv('../data/SW_EpisodeIV.csv')"
   ]
  },
  {
   "cell_type": "code",
   "execution_count": 16,
   "id": "36c8634f",
   "metadata": {},
   "outputs": [],
   "source": [
    "df1[\"episode\"]= df1.character.apply(lambda x: \"IV\")"
   ]
  },
  {
   "cell_type": "code",
   "execution_count": 39,
   "id": "2a8a5d68",
   "metadata": {
    "collapsed": true
   },
   "outputs": [
    {
     "data": {
      "text/plain": [
       "HAN                       124\n",
       "LUKE                      112\n",
       "THREEPIO                   90\n",
       "LEIA                       56\n",
       "VADER                      43\n",
       "LANDO                      40\n",
       "EMPEROR                    39\n",
       "JABBA                      20\n",
       "BEN                        18\n",
       "ACKBAR                     14\n",
       "YODA                       13\n",
       "WEDGE                      11\n",
       "PIETT                       8\n",
       "BOUSHH                      7\n",
       "JERJERROD                   7\n",
       "COMMANDER                   7\n",
       "NINEDENINE                  6\n",
       "BIB                         6\n",
       "STORMTROOPER                6\n",
       "CONTROLLER                  5\n",
       "MON MOTHMA                  3\n",
       "REBEL PILOT                 3\n",
       "GUARD                       2\n",
       "SCOUT #1                    2\n",
       "SHUTTLE CAPTAIN             2\n",
       "ANAKIN                      2\n",
       "GENERAL MADINE              2\n",
       "DEATH STAR CONTROLLER       1\n",
       "BUNKER COMMANDER            1\n",
       "LURE                        1\n",
       "PILOT                       1\n",
       "SECOND COMMANDER            1\n",
       "CONTROL ROOM COMMANDER      1\n",
       "HAN/PILOT                   1\n",
       "PILOT #2                    1\n",
       "WALKER PILOT #1             1\n",
       "Y-WING PILOT                1\n",
       "NAVIGATOR                   1\n",
       "RED THREE                   1\n",
       "RED TWO                     1\n",
       "OFFICER                     1\n",
       "VOICE                       1\n",
       "OPERATOR                    1\n",
       "RED LEADER                  1\n",
       "GREEN LEADER                1\n",
       "GRAY LEADER                 1\n",
       "STRANGE VOICE               1\n",
       "SCOUT                       1\n",
       "OOLA                        1\n",
       "HAN and LUKE                1\n",
       "SCOUT #2                    1\n",
       "SCOUT #l                    1\n",
       "PILOT VOICE                 1\n",
       "Name: character, dtype: int64"
      ]
     },
     "execution_count": 39,
     "metadata": {},
     "output_type": "execute_result"
    }
   ],
   "source": [
    "df.character.value_counts()"
   ]
  },
  {
   "cell_type": "code",
   "execution_count": 40,
   "id": "654b1675",
   "metadata": {},
   "outputs": [
    {
     "data": {
      "text/html": [
       "<div>\n",
       "<style scoped>\n",
       "    .dataframe tbody tr th:only-of-type {\n",
       "        vertical-align: middle;\n",
       "    }\n",
       "\n",
       "    .dataframe tbody tr th {\n",
       "        vertical-align: top;\n",
       "    }\n",
       "\n",
       "    .dataframe thead th {\n",
       "        text-align: right;\n",
       "    }\n",
       "</style>\n",
       "<table border=\"1\" class=\"dataframe\">\n",
       "  <thead>\n",
       "    <tr style=\"text-align: right;\">\n",
       "      <th></th>\n",
       "      <th>line</th>\n",
       "      <th>character</th>\n",
       "      <th>dialogue</th>\n",
       "      <th>episode</th>\n",
       "    </tr>\n",
       "  </thead>\n",
       "  <tbody>\n",
       "    <tr>\n",
       "      <th>661</th>\n",
       "      <td>662</td>\n",
       "      <td>ANAKIN</td>\n",
       "      <td>Now...go, my son. Leave me.</td>\n",
       "      <td>VI</td>\n",
       "    </tr>\n",
       "    <tr>\n",
       "      <th>663</th>\n",
       "      <td>664</td>\n",
       "      <td>ANAKIN</td>\n",
       "      <td>You already have, Luke. You were right about m...</td>\n",
       "      <td>VI</td>\n",
       "    </tr>\n",
       "  </tbody>\n",
       "</table>\n",
       "</div>"
      ],
      "text/plain": [
       "    line character                                           dialogue episode\n",
       "661  662    ANAKIN                        Now...go, my son. Leave me.      VI\n",
       "663  664    ANAKIN  You already have, Luke. You were right about m...      VI"
      ]
     },
     "execution_count": 40,
     "metadata": {},
     "output_type": "execute_result"
    }
   ],
   "source": [
    "df[df.character == \"ANAKIN\"]"
   ]
  }
 ],
 "metadata": {
  "kernelspec": {
   "display_name": "Python 3 (ipykernel)",
   "language": "python",
   "name": "python3"
  },
  "language_info": {
   "codemirror_mode": {
    "name": "ipython",
    "version": 3
   },
   "file_extension": ".py",
   "mimetype": "text/x-python",
   "name": "python",
   "nbconvert_exporter": "python",
   "pygments_lexer": "ipython3",
   "version": "3.8.10"
  }
 },
 "nbformat": 4,
 "nbformat_minor": 5
}
