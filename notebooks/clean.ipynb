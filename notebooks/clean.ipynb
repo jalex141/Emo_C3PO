{
 "cells": [
  {
   "cell_type": "markdown",
   "id": "f2981799",
   "metadata": {},
   "source": [
    "# Clean\n",
    "## Get data and clean it \n",
    "\n",
    "### imports"
   ]
  },
  {
   "cell_type": "code",
   "execution_count": null,
   "id": "043b24e0",
   "metadata": {},
   "outputs": [],
   "source": [
    "import pandas as pd\n",
    "import seaborn as sns\n",
    "import numpy as np\n",
    "import re\n",
    "import os\n",
    "import sys\n",
    "sys.path.append('../')\n",
    "import re "
   ]
  },
  {
   "cell_type": "markdown",
   "id": "dd72fdd0",
   "metadata": {},
   "source": [
    "### Download from kaggle"
   ]
  },
  {
   "cell_type": "code",
   "execution_count": null,
   "id": "85eaddb2",
   "metadata": {},
   "outputs": [],
   "source": [
    "url = https://www.kaggle.com/xvivancos/star-wars-movie-scripts\n",
    "endopint = url.split(\"/\")[-1]\n",
    "user = url.split(\"/\")[-2]\n",
    "download = f\"kaggle datasets download -d {user}/{endopint}\"\n",
    "decompress = f\"unzip *.zip\"\n",
    "delete = f\"rm -rf *.zip\"\n",
    "make_directory = \"mkdir data\"\n",
    "lista = \"ls >> archivos.txt\"\n",
    "    \n",
    "for i in [download, decompress, delete, make_directory, lista]:\n",
    "    os.system(i)\n",
    "for file in list(\"./archivos.txt\"):\n",
    "        os.system(f\"mv *.txt ./data/{file}\")"
   ]
  },
  {
   "cell_type": "markdown",
   "id": "9f70fa9e",
   "metadata": {},
   "source": [
    "### Convert txt files to csv"
   ]
  },
  {
   "cell_type": "code",
   "execution_count": 18,
   "id": "0d5e0f52",
   "metadata": {},
   "outputs": [],
   "source": [
    "dfs = [\"IV\", \"V\", \"VI\"]"
   ]
  },
  {
   "cell_type": "code",
   "execution_count": 46,
   "id": "1a8e4555",
   "metadata": {},
   "outputs": [],
   "source": [
    "def substitute(x):\n",
    "    x = str(x).replace(\"'\", \" \")\n",
    "    x = str(x).replace(\"'\", \" \")\n",
    "\n",
    "    return x "
   ]
  },
  {
   "cell_type": "code",
   "execution_count": 47,
   "id": "13bdf448",
   "metadata": {},
   "outputs": [],
   "source": [
    "for ep in dfs:\n",
    "    df = pd.read_csv (f'../data/SW_Episode{ep}.txt', sep= \" \")\n",
    "    #df = pd.read_csv(f'../data/SW_Episode{ep}.csv')\n",
    "    df[\"episode\"]= df.character.apply(lambda x: f\"{ep}\")\n",
    "    df[\"dialogue\"] = df.dialogue.apply(substitute)\n",
    "\n",
    "    df.to_csv (f'../data/SW_Episode{ep}.csv', index=None)"
   ]
  },
  {
   "cell_type": "code",
   "execution_count": 3,
   "id": "ebf83e77",
   "metadata": {},
   "outputs": [],
   "source": [
    "df1 = pd.read_csv('../data/SW_EpisodeIV.csv')"
   ]
  },
  {
   "cell_type": "code",
   "execution_count": null,
   "id": "6914dc51",
   "metadata": {},
   "outputs": [],
   "source": []
  }
 ],
 "metadata": {
  "kernelspec": {
   "display_name": "Python 3 (ipykernel)",
   "language": "python",
   "name": "python3"
  },
  "language_info": {
   "codemirror_mode": {
    "name": "ipython",
    "version": 3
   },
   "file_extension": ".py",
   "mimetype": "text/x-python",
   "name": "python",
   "nbconvert_exporter": "python",
   "pygments_lexer": "ipython3",
   "version": "3.8.10"
  }
 },
 "nbformat": 4,
 "nbformat_minor": 5
}
